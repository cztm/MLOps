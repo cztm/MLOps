{
 "cells": [
  {
   "cell_type": "markdown",
   "id": "3ccf8196",
   "metadata": {},
   "source": [
    "# Data Versioning Lab\n",
    "\n",
    "## Overview\n",
    "\n",
    "In this lab you will practice using DVC to create data pipelines.\n",
    "\n",
    "## Goal\n",
    "\n",
    "The goal in this lab is to become familiar with the importance of keeping track of different versions of your data sets. Although we will use DVC in this lab, we are **not** trying to learn all we can about it. DVC has too much functionality for us to learn in a single lab. \n",
    "\n",
    "## Instructions\n",
    "\n",
    "Using the data that you used in the Experiment Tracking lab, use DVC to create a reproducible pipeline for data preprocessing. \n",
    " \n",
    "- Put your datasets in a `data/` folder  \n",
    "- Add your datasets to DVC  \n",
    "\n",
    "At this point you should create a script, called `preprocessing.py`, saved to the `src/` folder, that does only the data preprocessing stages of the pipeline. Any modeling stages can be kept in a separate script. You may need to first work inside of a notebook to finalize your code. Feel free to just copy and paste any data processing code that you previously used on Lab 2.  \n",
    "\n",
    "Once your script works, \n",
    "\n",
    "- in the root directory of your project, create the `dvc.yaml` file. The `params.yaml` file is optional.  \n",
    "- run `dvc repro` to create the output files.  \n",
    "- commit and push changes to Github.  \n",
    "- remember, do not add your data files to git.\n",
    "\n",
    "To get credit for this lab, I should be able to see that you've created a pipeline for your project data. There should be: \n",
    "\n",
    "- a preprocessing.py file in the `src/` directory,  \n",
    "- *.dvc files for your datasets in the `data/` directory,     \n",
    "- dvc.lock and dvc.yaml files in the root directory,    \n",
    "- an optional params.yaml in the root directory.\n",
    "\n",
    "### Turning It In\n",
    "\n",
    "As before, send me a link, in Canvas, to your Github repo. Even though you may have done this already, please do so again to indicate you have finished the lab."
   ]
  }
 ],
 "metadata": {
  "language_info": {
   "name": "python"
  }
 },
 "nbformat": 4,
 "nbformat_minor": 5
}
