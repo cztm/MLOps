{
 "cells": [
  {
   "attachments": {},
   "cell_type": "markdown",
   "metadata": {},
   "source": [
    "# Experiment Tracking with MLFlow (Local)\n",
    "\n",
    "In this demo we will see how to use MLFlow for tracking experiments, using a toy data set. In the attached lab (below), you will download a larger dataset and attempt to train the best model that you can.\n",
    "\n",
    "We should first install mlflow, and add it to the requirements.txt file if not done already.\n",
    "\n",
    "`pip install mlflow` or `python3 -m pip install mlflow`.\n",
    "\n",
    "You may also need to `pip install setuptools`.\n",
    "\n",
    "From here, make sure to save this notebook in a specific folder, and ensure you run all command line commands from the same folder."
   ]
  },
  {
   "cell_type": "code",
   "execution_count": 39,
   "metadata": {},
   "outputs": [],
   "source": [
    "import os\n",
    "import mlflow\n",
    "import pandas as pd\n",
    "import seaborn as sns\n",
    "import matplotlib.pyplot as plt\n",
    "\n",
    "from sklearn.model_selection import train_test_split\n",
    "from sklearn.linear_model import LogisticRegression\n",
    "from sklearn.ensemble import RandomForestClassifier\n",
    "from sklearn.tree import DecisionTreeClassifier\n",
    "from sklearn.metrics import accuracy_score\n",
    "from IPython.display import Image"
   ]
  },
  {
   "cell_type": "code",
   "execution_count": 40,
   "metadata": {},
   "outputs": [
    {
     "name": "stdout",
     "output_type": "stream",
     "text": [
      "✅ Authenticated as: mlops-accountant@mlopslab5-457005.iam.gserviceaccount.com\n"
     ]
    }
   ],
   "source": [
    "from google.oauth2 import service_account\n",
    "\n",
    "creds_path = \"/mnt/c/Users/chely/Downloads/key.json\"\n",
    "credentials = service_account.Credentials.from_service_account_file(creds_path)\n",
    "\n",
    "print(\"✅ Authenticated as:\", credentials.service_account_email)\n"
   ]
  },
  {
   "cell_type": "code",
   "execution_count": 41,
   "metadata": {},
   "outputs": [],
   "source": [
    "os.environ[\"GOOGLE_APPLICATION_CREDENTIALS\"] = \"/mnt/c/Users/chely/Downloads/key.json\"\n"
   ]
  },
  {
   "attachments": {},
   "cell_type": "markdown",
   "metadata": {},
   "source": [
    "Running the below code will create a sqlite database and an mlruns folder in the current directory."
   ]
  },
  {
   "cell_type": "code",
   "execution_count": 42,
   "metadata": {},
   "outputs": [
    {
     "name": "stderr",
     "output_type": "stream",
     "text": [
      "2025/04/18 10:32:09 INFO mlflow.tracking.fluent: Experiment with name 'lab5' does not exist. Creating a new experiment.\n"
     ]
    },
    {
     "data": {
      "text/plain": [
       "<Experiment: artifact_location='gs://freshmlopsbucket/mlruns /1', creation_time=1744997529859, experiment_id='1', last_update_time=1744997529859, lifecycle_stage='active', name='lab5', tags={}>"
      ]
     },
     "execution_count": 42,
     "metadata": {},
     "output_type": "execute_result"
    }
   ],
   "source": [
    "mlflow.set_tracking_uri(\"https://mlflow-server-152716764493.us-west2.run.app\")\n",
    "# mlflow.create_experiment(\n",
    "#     name=\"lab5\")\n",
    "mlflow.set_experiment('lab5')"
   ]
  },
  {
   "cell_type": "code",
   "execution_count": 43,
   "metadata": {},
   "outputs": [
    {
     "data": {
      "text/plain": [
       "'https://mlflow-server-152716764493.us-west2.run.app'"
      ]
     },
     "execution_count": 43,
     "metadata": {},
     "output_type": "execute_result"
    }
   ],
   "source": [
    "mlflow.get_tracking_uri()"
   ]
  },
  {
   "attachments": {},
   "cell_type": "markdown",
   "metadata": {},
   "source": [
    "\n",
    "# Experiment Tracking and Model Registry Lab\n",
    "\n",
    "## Overview\n",
    "\n",
    "In this lab you will each download a new dataset and attempt to train a good model, and use mlflow to keep track of all of your experiments, log your metrics, artifacts and models, and then register a final set of models for \"deployment\", though we won't actually deploy them anywhere yet.\n",
    "\n",
    "## Goal\n",
    "\n",
    "Your goal is **not** to become a master at MLFlow - this is not a course on learning all of the ins and outs of MLFlow. Instead, your goal is to understand when and why it is important to track your model development process (tracking experiments, artifacts and models) and to get into the habit of doing so, and then learn at least the basics of how MLFlow helps you do this so that you can then compare with other tools that are available.\n",
    "\n",
    "## Data\n",
    "\n",
    "You can choose your own dataset to use here. It will be helpful to choose a dataset that is already fairly clean and easy to work with. You can even use a dataset that you've used in a previous course. We will do a lot of labs where we do different things with datasets, so if you can find one that is interesting enough for modeling, it should work for most of the rest of the course. \n",
    "\n",
    "There are tons of places where you can find open public datasets. Choose something that interests you, but don't overthink it.\n",
    "\n",
    "[Kaggle Datasets](https://www.kaggle.com/datasets)  \n",
    "[HuggingFace Datasets](https://huggingface.co/docs/datasets/index)  \n",
    "[Dagshub Datasets](https://dagshub.com/datasets/)  \n",
    "[UCI](https://archive.ics.uci.edu/ml/datasets.php)  \n",
    "[Open Data on AWS](https://registry.opendata.aws/)  \n",
    "[Yelp](https://www.yelp.com/dataset)  \n",
    "[MovieLens](https://grouplens.org/datasets/movielens/)  \n",
    "And so many more...\n",
    "\n",
    "## Instructions\n",
    "\n",
    "Once you have selected a set of data, create a brand new experiment in MLFlow and begin exploring your data. Do some EDA, clean up, and learn about your data. You do not need to begin tracking anything yet, but you can if you want to (e.g. you can log different versions of your data as you clean it up and do any feature engineering). Do not spend a ton of time on this part. Your goal isn't really to build a great model, so don't spend hours on feature engineering and missing data imputation and things like that.\n",
    "\n",
    "Once your data is clean, begin training models and tracking your experiments. If you intend to use this same dataset for your final project, then start thinking about what your model might look like when you actually deploy it. For example, when you engineer new features, be sure to save the code that does this, as you will need this in the future. If your final model has 1000 complex features, you might have a difficult time deploying it later on. If your final model takes 15 minutes to train, or takes a long time to score a new batch of data, you may want to think about training a less complex model.\n",
    "\n",
    "Now, when tracking your experiments, at a *minimum*, you should:\n",
    "\n",
    "1. Try at least 3 different ML algorithms (e.g. linear regression, decision tree, random forest, etc.).\n",
    "2. Do hyperparameter tuning for **each** algorithm.\n",
    "3. Do some very basic feature selection, and repeat the above steps with these reduced sets of features.\n",
    "4. Identify the top 3 best models and note these down for later.\n",
    "6. Choose the **final** \"best\" model that you would deploy or use on future data, stage it (in MLFlow), and run it on the test set to get a final measure of performance. Don't forget to log the test set metric.\n",
    "7. Be sure you logged the exact training, validation, and testing datasets for the 3 best models, as well as hyperparameter values, and the values of your metrics.  \n",
    "8. Push your code to Github. No need to track the mlruns folder, the images folder, any datasets, or the sqlite database in git.\n",
    "\n",
    "### Turning It In\n",
    "\n",
    "In the MLFlow UI, next to the refresh button you should see three vertical dots. Click the dots and then download your experiments as a csv file. Open the csv file in Excel and highlight the rows for your top 3 models from step 4, highlight the run where you applied your best model to the test set, and then save as an excel file. Take a snapshot of the Models page in the MLFLow UI showing the model you staged in step 6 above. Submit the excel file and the snapshot to Canvas."
   ]
  },
  {
   "cell_type": "markdown",
   "metadata": {},
   "source": [
    "# Chelyah's Lab"
   ]
  },
  {
   "cell_type": "markdown",
   "metadata": {},
   "source": [
    "## 1. Importing Data + EDA"
   ]
  },
  {
   "cell_type": "code",
   "execution_count": 44,
   "metadata": {},
   "outputs": [
    {
     "data": {
      "text/html": [
       "<div>\n",
       "<style scoped>\n",
       "    .dataframe tbody tr th:only-of-type {\n",
       "        vertical-align: middle;\n",
       "    }\n",
       "\n",
       "    .dataframe tbody tr th {\n",
       "        vertical-align: top;\n",
       "    }\n",
       "\n",
       "    .dataframe thead th {\n",
       "        text-align: right;\n",
       "    }\n",
       "</style>\n",
       "<table border=\"1\" class=\"dataframe\">\n",
       "  <thead>\n",
       "    <tr style=\"text-align: right;\">\n",
       "      <th></th>\n",
       "      <th>Timestamp</th>\n",
       "      <th>Choose your gender</th>\n",
       "      <th>Age</th>\n",
       "      <th>What is your course?</th>\n",
       "      <th>Your current year of Study</th>\n",
       "      <th>What is your CGPA?</th>\n",
       "      <th>Marital status</th>\n",
       "      <th>Do you have Depression?</th>\n",
       "      <th>Do you have Anxiety?</th>\n",
       "      <th>Do you have Panic attack?</th>\n",
       "      <th>Did you seek any specialist for a treatment?</th>\n",
       "    </tr>\n",
       "  </thead>\n",
       "  <tbody>\n",
       "    <tr>\n",
       "      <th>0</th>\n",
       "      <td>8/7/2020 12:02</td>\n",
       "      <td>Female</td>\n",
       "      <td>18.0</td>\n",
       "      <td>Engineering</td>\n",
       "      <td>year 1</td>\n",
       "      <td>3.00 - 3.49</td>\n",
       "      <td>No</td>\n",
       "      <td>Yes</td>\n",
       "      <td>No</td>\n",
       "      <td>Yes</td>\n",
       "      <td>No</td>\n",
       "    </tr>\n",
       "    <tr>\n",
       "      <th>1</th>\n",
       "      <td>8/7/2020 12:04</td>\n",
       "      <td>Male</td>\n",
       "      <td>21.0</td>\n",
       "      <td>Islamic education</td>\n",
       "      <td>year 2</td>\n",
       "      <td>3.00 - 3.49</td>\n",
       "      <td>No</td>\n",
       "      <td>No</td>\n",
       "      <td>Yes</td>\n",
       "      <td>No</td>\n",
       "      <td>No</td>\n",
       "    </tr>\n",
       "    <tr>\n",
       "      <th>2</th>\n",
       "      <td>8/7/2020 12:05</td>\n",
       "      <td>Male</td>\n",
       "      <td>19.0</td>\n",
       "      <td>BIT</td>\n",
       "      <td>Year 1</td>\n",
       "      <td>3.00 - 3.49</td>\n",
       "      <td>No</td>\n",
       "      <td>Yes</td>\n",
       "      <td>Yes</td>\n",
       "      <td>Yes</td>\n",
       "      <td>No</td>\n",
       "    </tr>\n",
       "    <tr>\n",
       "      <th>3</th>\n",
       "      <td>8/7/2020 12:06</td>\n",
       "      <td>Female</td>\n",
       "      <td>22.0</td>\n",
       "      <td>Laws</td>\n",
       "      <td>year 3</td>\n",
       "      <td>3.00 - 3.49</td>\n",
       "      <td>Yes</td>\n",
       "      <td>Yes</td>\n",
       "      <td>No</td>\n",
       "      <td>No</td>\n",
       "      <td>No</td>\n",
       "    </tr>\n",
       "    <tr>\n",
       "      <th>4</th>\n",
       "      <td>8/7/2020 12:13</td>\n",
       "      <td>Male</td>\n",
       "      <td>23.0</td>\n",
       "      <td>Mathemathics</td>\n",
       "      <td>year 4</td>\n",
       "      <td>3.00 - 3.49</td>\n",
       "      <td>No</td>\n",
       "      <td>No</td>\n",
       "      <td>No</td>\n",
       "      <td>No</td>\n",
       "      <td>No</td>\n",
       "    </tr>\n",
       "  </tbody>\n",
       "</table>\n",
       "</div>"
      ],
      "text/plain": [
       "        Timestamp Choose your gender   Age What is your course?  \\\n",
       "0  8/7/2020 12:02             Female  18.0          Engineering   \n",
       "1  8/7/2020 12:04               Male  21.0    Islamic education   \n",
       "2  8/7/2020 12:05               Male  19.0                  BIT   \n",
       "3  8/7/2020 12:06             Female  22.0                 Laws   \n",
       "4  8/7/2020 12:13               Male  23.0         Mathemathics   \n",
       "\n",
       "  Your current year of Study What is your CGPA? Marital status  \\\n",
       "0                     year 1        3.00 - 3.49             No   \n",
       "1                     year 2        3.00 - 3.49             No   \n",
       "2                     Year 1        3.00 - 3.49             No   \n",
       "3                     year 3        3.00 - 3.49            Yes   \n",
       "4                     year 4        3.00 - 3.49             No   \n",
       "\n",
       "  Do you have Depression? Do you have Anxiety? Do you have Panic attack?  \\\n",
       "0                     Yes                   No                       Yes   \n",
       "1                      No                  Yes                        No   \n",
       "2                     Yes                  Yes                       Yes   \n",
       "3                     Yes                   No                        No   \n",
       "4                      No                   No                        No   \n",
       "\n",
       "  Did you seek any specialist for a treatment?  \n",
       "0                                           No  \n",
       "1                                           No  \n",
       "2                                           No  \n",
       "3                                           No  \n",
       "4                                           No  "
      ]
     },
     "execution_count": 44,
     "metadata": {},
     "output_type": "execute_result"
    }
   ],
   "source": [
    "df_health = pd.read_csv(\"../../data/student_mental_health.csv\")\n",
    "df_health.head()"
   ]
  },
  {
   "cell_type": "code",
   "execution_count": 45,
   "metadata": {},
   "outputs": [
    {
     "data": {
      "text/plain": [
       "Index(['timestamp', 'choose_your_gender', 'age', 'what_is_your_course',\n",
       "       'your_current_year_of_study', 'what_is_your_cgpa', 'marital_status',\n",
       "       'do_you_have_depression', 'do_you_have_anxiety',\n",
       "       'do_you_have_panic_attack',\n",
       "       'did_you_seek_any_specialist_for_a_treatment'],\n",
       "      dtype='object')"
      ]
     },
     "execution_count": 45,
     "metadata": {},
     "output_type": "execute_result"
    }
   ],
   "source": [
    "df_health.columns = df_health.columns.str.strip().str.lower().str.replace(' ', '_').str.replace('?', '', regex=False)\n",
    "df_health.columns"
   ]
  },
  {
   "cell_type": "code",
   "execution_count": 46,
   "metadata": {},
   "outputs": [
    {
     "data": {
      "text/plain": [
       "choose_your_gender                             0\n",
       "age                                            1\n",
       "what_is_your_course                            0\n",
       "your_current_year_of_study                     0\n",
       "what_is_your_cgpa                              0\n",
       "marital_status                                 0\n",
       "do_you_have_depression                         0\n",
       "do_you_have_anxiety                            0\n",
       "do_you_have_panic_attack                       0\n",
       "did_you_seek_any_specialist_for_a_treatment    0\n",
       "dtype: int64"
      ]
     },
     "execution_count": 46,
     "metadata": {},
     "output_type": "execute_result"
    }
   ],
   "source": [
    "df_health.drop(columns=\"timestamp\", inplace=True)\n",
    "df_health.isna().sum()\n"
   ]
  },
  {
   "cell_type": "code",
   "execution_count": 47,
   "metadata": {},
   "outputs": [
    {
     "data": {
      "text/plain": [
       "choose_your_gender                             0\n",
       "age                                            0\n",
       "what_is_your_course                            0\n",
       "your_current_year_of_study                     0\n",
       "what_is_your_cgpa                              0\n",
       "marital_status                                 0\n",
       "do_you_have_depression                         0\n",
       "do_you_have_anxiety                            0\n",
       "do_you_have_panic_attack                       0\n",
       "did_you_seek_any_specialist_for_a_treatment    0\n",
       "dtype: int64"
      ]
     },
     "execution_count": 47,
     "metadata": {},
     "output_type": "execute_result"
    }
   ],
   "source": [
    "df_health = df_health.dropna(subset=['age'])\n",
    "df_health.isna().sum()"
   ]
  },
  {
   "cell_type": "code",
   "execution_count": 48,
   "metadata": {},
   "outputs": [
    {
     "data": {
      "image/png": "[encoded data removed]",
      "text/plain": [
       "<Figure size 1200x400 with 3 Axes>"
      ]
     },
     "metadata": {},
     "output_type": "display_data"
    }
   ],
   "source": [
    "plt.figure(figsize=(12, 4))\n",
    "for i, col in enumerate(['do_you_have_depression', 'do_you_have_anxiety', 'do_you_have_panic_attack']):\n",
    "    plt.subplot(1, 3, i+1)\n",
    "    sns.countplot(data=df_health, x=col, hue='choose_your_gender')\n",
    "    plt.title(col.replace('_', ' ').title())\n",
    "    plt.xlabel('')\n",
    "    plt.ylabel('')\n",
    "plt.tight_layout()\n",
    "plt.show()"
   ]
  },
  {
   "cell_type": "code",
   "execution_count": 49,
   "metadata": {},
   "outputs": [
    {
     "data": {
      "image/png": "[encoded data removed]",
      "text/plain": [
       "<Figure size 1000x600 with 1 Axes>"
      ]
     },
     "metadata": {},
     "output_type": "display_data"
    }
   ],
   "source": [
    "plt.figure(figsize=(10, 6))\n",
    "sns.boxplot(data=df_health, x='what_is_your_cgpa', y='age',\n",
    "            order=sorted(df_health['what_is_your_cgpa'].unique()))\n",
    "plt.title(\"Age Distribution by CGPA Range\")\n",
    "plt.xlabel(\"CGPA Range\")\n",
    "plt.ylabel(\"Age\")\n",
    "plt.xticks(rotation=45)\n",
    "plt.tight_layout()\n",
    "plt.show()"
   ]
  },
  {
   "cell_type": "markdown",
   "metadata": {},
   "source": [
    "## 2. Try at least 3 different ML algorithms (e.g. linear regression, decision tree, random forest, etc.) & 3. Do hyperparameter tuning for **each** algorithm."
   ]
  },
  {
   "cell_type": "code",
   "execution_count": 50,
   "metadata": {},
   "outputs": [
    {
     "data": {
      "text/plain": [
       "<Experiment: artifact_location='gs://freshmlopsbucket/mlruns /1', creation_time=1744997529859, experiment_id='1', last_update_time=1744997529859, lifecycle_stage='active', name='lab5', tags={}>"
      ]
     },
     "execution_count": 50,
     "metadata": {},
     "output_type": "execute_result"
    }
   ],
   "source": [
    "mlflow.set_experiment('lab5')"
   ]
  },
  {
   "cell_type": "code",
   "execution_count": 51,
   "metadata": {},
   "outputs": [],
   "source": [
    "df_health['target'] = df_health['do_you_have_depression'].map({'Yes': 1, 'No': 0})"
   ]
  },
  {
   "cell_type": "code",
   "execution_count": 52,
   "metadata": {},
   "outputs": [],
   "source": [
    "X_new = df_health.drop(columns=['do_you_have_depression', 'target'])\n",
    "X_encoded = pd.get_dummies(X_new)\n",
    "y_new = df_health['target']"
   ]
  },
  {
   "cell_type": "code",
   "execution_count": 53,
   "metadata": {},
   "outputs": [],
   "source": [
    "X_t, X_te, y_t, y_te = train_test_split(X_encoded, y_new, test_size=0.2)"
   ]
  },
  {
   "cell_type": "code",
   "execution_count": 54,
   "metadata": {},
   "outputs": [],
   "source": [
    "artifact_dir = \"artifacts_datasets\"\n",
    "os.makedirs(artifact_dir, exist_ok=True)\n",
    "\n",
    "X_t.to_csv(f\"{artifact_dir}/X_train.csv\", index=False)\n",
    "X_te.to_csv(f\"{artifact_dir}/X_test.csv\", index=False)\n",
    "y_t.to_csv(f\"{artifact_dir}/y_train.csv\", index=False)\n",
    "y_te.to_csv(f\"{artifact_dir}/y_test.csv\", index=False)"
   ]
  },
  {
   "cell_type": "code",
   "execution_count": 55,
   "metadata": {},
   "outputs": [
    {
     "name": "stdout",
     "output_type": "stream",
     "text": [
      "🏃 View run illustrious-ram-467 at: https://mlflow-server-152716764493.us-west2.run.app/#/experiments/1/runs/8b79fef4e2164ecda5c472361a98fcf0\n",
      "🧪 View experiment at: https://mlflow-server-152716764493.us-west2.run.app/#/experiments/1\n",
      "🏃 View run funny-fowl-968 at: https://mlflow-server-152716764493.us-west2.run.app/#/experiments/1/runs/1732f1cb1ec749988a695227605d9e28\n",
      "🧪 View experiment at: https://mlflow-server-152716764493.us-west2.run.app/#/experiments/1\n",
      "🏃 View run welcoming-yak-687 at: https://mlflow-server-152716764493.us-west2.run.app/#/experiments/1/runs/34ed36ecfdf945a79eb6479cb65d3056\n",
      "🧪 View experiment at: https://mlflow-server-152716764493.us-west2.run.app/#/experiments/1\n",
      "🏃 View run upbeat-squirrel-806 at: https://mlflow-server-152716764493.us-west2.run.app/#/experiments/1/runs/ff8c3bd3ad6f40a0b7195b906d1f1928\n",
      "🧪 View experiment at: https://mlflow-server-152716764493.us-west2.run.app/#/experiments/1\n",
      "🏃 View run wise-zebra-117 at: https://mlflow-server-152716764493.us-west2.run.app/#/experiments/1/runs/8c47c6ad0d874b9494f7e40ace2372e9\n",
      "🧪 View experiment at: https://mlflow-server-152716764493.us-west2.run.app/#/experiments/1\n",
      "🏃 View run invincible-shad-64 at: https://mlflow-server-152716764493.us-west2.run.app/#/experiments/1/runs/ade6da4226224f68bbd733555fc7cedd\n",
      "🧪 View experiment at: https://mlflow-server-152716764493.us-west2.run.app/#/experiments/1\n"
     ]
    }
   ],
   "source": [
    "penalty = ['l2', None]\n",
    "max_iter = [1000, 5000, 10000]\n",
    "\n",
    "for p in penalty:\n",
    "    for iters in max_iter:\n",
    "        with mlflow.start_run():\n",
    "            mlflow.set_tags({\"Model\":\"logistic-regression\", \"Train/Test Split\": \"80/20\", \"Target\": \"depression\"})\n",
    "            mlflow.log_params({'penalty': 'None' if p is None else p, 'max_iter':iters})\n",
    "            \n",
    "            log = LogisticRegression(penalty=p, max_iter=iters)\n",
    "            log.fit(X_t, y_t)\n",
    "            acc = accuracy_score(y_te, log.predict(X_te))\n",
    "\n",
    "            mlflow.log_metric(\"accuracy\", acc)\n",
    "mlflow.end_run()"
   ]
  },
  {
   "cell_type": "code",
   "execution_count": 56,
   "metadata": {},
   "outputs": [
    {
     "name": "stdout",
     "output_type": "stream",
     "text": [
      "🏃 View run hilarious-moose-174 at: https://mlflow-server-152716764493.us-west2.run.app/#/experiments/1/runs/55c94d42de004819a8ac4b0e937e4ec3\n",
      "🧪 View experiment at: https://mlflow-server-152716764493.us-west2.run.app/#/experiments/1\n",
      "🏃 View run valuable-moose-269 at: https://mlflow-server-152716764493.us-west2.run.app/#/experiments/1/runs/34dcc15f4ed1450dbfb4d75a912ce0ab\n",
      "🧪 View experiment at: https://mlflow-server-152716764493.us-west2.run.app/#/experiments/1\n",
      "🏃 View run upbeat-crab-181 at: https://mlflow-server-152716764493.us-west2.run.app/#/experiments/1/runs/bf43370946954f15acc42155e5fe1d23\n",
      "🧪 View experiment at: https://mlflow-server-152716764493.us-west2.run.app/#/experiments/1\n",
      "🏃 View run nebulous-shrike-799 at: https://mlflow-server-152716764493.us-west2.run.app/#/experiments/1/runs/e080d9f2a2da476cac913e1b262909b7\n",
      "🧪 View experiment at: https://mlflow-server-152716764493.us-west2.run.app/#/experiments/1\n",
      "🏃 View run handsome-sponge-423 at: https://mlflow-server-152716764493.us-west2.run.app/#/experiments/1/runs/21cab1345c014174a4006df1b4376fbd\n",
      "🧪 View experiment at: https://mlflow-server-152716764493.us-west2.run.app/#/experiments/1\n",
      "🏃 View run traveling-seal-453 at: https://mlflow-server-152716764493.us-west2.run.app/#/experiments/1/runs/d94f4c643c4d4d10b8a251112579f9b7\n",
      "🧪 View experiment at: https://mlflow-server-152716764493.us-west2.run.app/#/experiments/1\n",
      "🏃 View run classy-finch-557 at: https://mlflow-server-152716764493.us-west2.run.app/#/experiments/1/runs/5812940933d54ae68c7e593e8be05cd5\n",
      "🧪 View experiment at: https://mlflow-server-152716764493.us-west2.run.app/#/experiments/1\n",
      "🏃 View run classy-duck-203 at: https://mlflow-server-152716764493.us-west2.run.app/#/experiments/1/runs/5d3c22c3a33240b89d3fc94af4c8a7a5\n",
      "🧪 View experiment at: https://mlflow-server-152716764493.us-west2.run.app/#/experiments/1\n",
      "🏃 View run salty-dove-174 at: https://mlflow-server-152716764493.us-west2.run.app/#/experiments/1/runs/3b4b1b46c2db46bb8bfe36e269464b3e\n",
      "🧪 View experiment at: https://mlflow-server-152716764493.us-west2.run.app/#/experiments/1\n",
      "🏃 View run invincible-croc-153 at: https://mlflow-server-152716764493.us-west2.run.app/#/experiments/1/runs/0e74fc10c864419fac50105c143698ed\n",
      "🧪 View experiment at: https://mlflow-server-152716764493.us-west2.run.app/#/experiments/1\n",
      "🏃 View run languid-auk-336 at: https://mlflow-server-152716764493.us-west2.run.app/#/experiments/1/runs/dfac45c36d3f49cd8ccd996e34bc9b1c\n",
      "🧪 View experiment at: https://mlflow-server-152716764493.us-west2.run.app/#/experiments/1\n",
      "🏃 View run delightful-crow-632 at: https://mlflow-server-152716764493.us-west2.run.app/#/experiments/1/runs/bacce5feb32b48c09edd61d3e651ad3d\n",
      "🧪 View experiment at: https://mlflow-server-152716764493.us-west2.run.app/#/experiments/1\n"
     ]
    }
   ],
   "source": [
    "depths = [3, 5, 10, None]\n",
    "splits = [2, 5, 10]\n",
    "\n",
    "for depth in depths:\n",
    "    for split in splits:\n",
    "        with mlflow.start_run():\n",
    "            mlflow.set_tags({\n",
    "                \"Model\": \"decision-tree\", \"Train/Test Split\": \"80/20\", \"Target\": \"depression\"})\n",
    "            mlflow.log_params({'max_depth': depth, 'min_samples_split': split})\n",
    "\n",
    "            dt = DecisionTreeClassifier(max_depth=depth, min_samples_split=split)\n",
    "            dt.fit(X_t, y_t)\n",
    "\n",
    "            acc = accuracy_score(y_te, dt.predict(X_te))\n",
    "            mlflow.log_metric('accuracy', acc)\n",
    "mlflow.end_run()"
   ]
  },
  {
   "cell_type": "code",
   "execution_count": 57,
   "metadata": {},
   "outputs": [
    {
     "name": "stdout",
     "output_type": "stream",
     "text": [
      "🏃 View run unleashed-moose-707 at: https://mlflow-server-152716764493.us-west2.run.app/#/experiments/1/runs/cf75ab021ebd44e68372c5b4a4eeb3f1\n",
      "🧪 View experiment at: https://mlflow-server-152716764493.us-west2.run.app/#/experiments/1\n",
      "🏃 View run caring-elk-399 at: https://mlflow-server-152716764493.us-west2.run.app/#/experiments/1/runs/725b5bae8f1e497ca1b987162fc61467\n",
      "🧪 View experiment at: https://mlflow-server-152716764493.us-west2.run.app/#/experiments/1\n",
      "🏃 View run sincere-eel-94 at: https://mlflow-server-152716764493.us-west2.run.app/#/experiments/1/runs/ae74c7ce4ee843939250fe56bd4260f1\n",
      "🧪 View experiment at: https://mlflow-server-152716764493.us-west2.run.app/#/experiments/1\n",
      "🏃 View run calm-boar-568 at: https://mlflow-server-152716764493.us-west2.run.app/#/experiments/1/runs/4e71905571814533866a64b1c3d15267\n",
      "🧪 View experiment at: https://mlflow-server-152716764493.us-west2.run.app/#/experiments/1\n",
      "🏃 View run respected-hen-586 at: https://mlflow-server-152716764493.us-west2.run.app/#/experiments/1/runs/ec74052193f545b485a717aae8bb4108\n",
      "🧪 View experiment at: https://mlflow-server-152716764493.us-west2.run.app/#/experiments/1\n",
      "🏃 View run fearless-lynx-211 at: https://mlflow-server-152716764493.us-west2.run.app/#/experiments/1/runs/e7faa8eae4864841818b67c6194e1c9e\n",
      "🧪 View experiment at: https://mlflow-server-152716764493.us-west2.run.app/#/experiments/1\n",
      "🏃 View run blushing-ram-40 at: https://mlflow-server-152716764493.us-west2.run.app/#/experiments/1/runs/53729d337de04953b8a6d74947b304a4\n",
      "🧪 View experiment at: https://mlflow-server-152716764493.us-west2.run.app/#/experiments/1\n",
      "🏃 View run sassy-gnat-351 at: https://mlflow-server-152716764493.us-west2.run.app/#/experiments/1/runs/b88b553cb81846a681f9054bdc6061ba\n",
      "🧪 View experiment at: https://mlflow-server-152716764493.us-west2.run.app/#/experiments/1\n",
      "🏃 View run agreeable-midge-911 at: https://mlflow-server-152716764493.us-west2.run.app/#/experiments/1/runs/405f3369cb784d22b234b225309bdef5\n",
      "🧪 View experiment at: https://mlflow-server-152716764493.us-west2.run.app/#/experiments/1\n"
     ]
    }
   ],
   "source": [
    "ntrees = [50, 100, 200]\n",
    "depths = [None, 10, 20]\n",
    "\n",
    "for n in ntrees:\n",
    "    for d in depths:\n",
    "        with mlflow.start_run():\n",
    "            mlflow.set_tags({\"Model\": \"random-forest\", \"Train/Test Split\": \"80/20\", \"Target\": \"depression\"})\n",
    "\n",
    "            mlflow.log_params({'n_estimators': n,'max_depth': 'None' if d is None else d})\n",
    "\n",
    "            rf = RandomForestClassifier(n_estimators=n, max_depth=d, oob_score=True, bootstrap=True)\n",
    "            rf.fit(X_t, y_t)\n",
    "\n",
    "            acc = rf.oob_score_\n",
    "            mlflow.log_metric('accuracy', acc)\n",
    "mlflow.end_run()"
   ]
  },
  {
   "cell_type": "markdown",
   "metadata": {},
   "source": [
    "## 4. Do some very basic feature selection, and repeat the above steps with these reduced sets of features.\n"
   ]
  },
  {
   "cell_type": "code",
   "execution_count": 58,
   "metadata": {},
   "outputs": [],
   "source": [
    "drop_cols = [\n",
    "    'what_is_your_course',  \n",
    "    'marital_status',       \n",
    "    'do_you_have_depression',\n",
    "    'target'\n",
    "]\n",
    "\n",
    "X_man = df_health.drop(columns=drop_cols)\n",
    "X_man_encoded = pd.get_dummies(X_man, drop_first=True)\n",
    "\n",
    "X_train_red, X_test_red, y_train_red, y_test_red = train_test_split(X_man_encoded, df_health['target'], test_size=0.2,)"
   ]
  },
  {
   "cell_type": "code",
   "execution_count": 59,
   "metadata": {},
   "outputs": [],
   "source": [
    "artifact_redir = \"artifacts_datasets_reduced\"\n",
    "os.makedirs(artifact_redir, exist_ok=True)\n",
    "\n",
    "X_train_red.to_csv(f\"{artifact_redir}/X_train_reduced.csv\", index=False)\n",
    "X_test_red.to_csv(f\"{artifact_redir}/X_test_reduced.csv\", index=False)\n",
    "y_train_red.to_csv(f\"{artifact_redir}/y_train_reduced.csv\", index=False)\n",
    "y_test_red.to_csv(f\"{artifact_redir}/y_test.csv_reduced\", index=False)"
   ]
  },
  {
   "cell_type": "code",
   "execution_count": 60,
   "metadata": {},
   "outputs": [
    {
     "name": "stdout",
     "output_type": "stream",
     "text": [
      "🏃 View run adventurous-mare-920 at: https://mlflow-server-152716764493.us-west2.run.app/#/experiments/1/runs/e8b3ea5292f043fb9aa7466654b4ac41\n",
      "🧪 View experiment at: https://mlflow-server-152716764493.us-west2.run.app/#/experiments/1\n",
      "🏃 View run wistful-ray-780 at: https://mlflow-server-152716764493.us-west2.run.app/#/experiments/1/runs/65e0c07945ba42ed983f76a683ae2e51\n",
      "🧪 View experiment at: https://mlflow-server-152716764493.us-west2.run.app/#/experiments/1\n",
      "🏃 View run skittish-hen-583 at: https://mlflow-server-152716764493.us-west2.run.app/#/experiments/1/runs/278bb2f17cbb4101afc8320b8b9492b3\n",
      "🧪 View experiment at: https://mlflow-server-152716764493.us-west2.run.app/#/experiments/1\n",
      "🏃 View run casual-perch-644 at: https://mlflow-server-152716764493.us-west2.run.app/#/experiments/1/runs/0218a2307d4744e098b5eabe46f36041\n",
      "🧪 View experiment at: https://mlflow-server-152716764493.us-west2.run.app/#/experiments/1\n",
      "🏃 View run rogue-mouse-24 at: https://mlflow-server-152716764493.us-west2.run.app/#/experiments/1/runs/d9d6af45e4514be2bf48d0dc7ab05bdd\n",
      "🧪 View experiment at: https://mlflow-server-152716764493.us-west2.run.app/#/experiments/1\n",
      "🏃 View run big-lamb-130 at: https://mlflow-server-152716764493.us-west2.run.app/#/experiments/1/runs/eb6cabfec18a4fe99dc3253002ce642a\n",
      "🧪 View experiment at: https://mlflow-server-152716764493.us-west2.run.app/#/experiments/1\n"
     ]
    }
   ],
   "source": [
    "penalty = ['l2', None]\n",
    "max_iter = [1000, 5000, 10000]\n",
    "\n",
    "for p in penalty:\n",
    "    for iters in max_iter:\n",
    "        with mlflow.start_run():\n",
    "            mlflow.set_tags({\"Model\":\"logistic-regression\", \"Train/Test Split\": \"80/20\", \"Target\": \"depression\", \"Reduced Features\": True})\n",
    "            mlflow.log_params({'penalty': 'None' if p is None else p, 'max_iter':iters})\n",
    "            \n",
    "            log = LogisticRegression(penalty=p, max_iter=iters)\n",
    "            log.fit(X_train_red, y_train_red)\n",
    "            acc = accuracy_score(y_test_red, log.predict(X_test_red))\n",
    "\n",
    "            mlflow.log_metric(\"accuracy\", acc)\n",
    "mlflow.end_run()"
   ]
  },
  {
   "cell_type": "code",
   "execution_count": 61,
   "metadata": {},
   "outputs": [
    {
     "name": "stdout",
     "output_type": "stream",
     "text": [
      "🏃 View run charming-kit-890 at: https://mlflow-server-152716764493.us-west2.run.app/#/experiments/1/runs/c635cf35761e46e98bd05cea68f1e52a\n",
      "🧪 View experiment at: https://mlflow-server-152716764493.us-west2.run.app/#/experiments/1\n",
      "🏃 View run unique-finch-366 at: https://mlflow-server-152716764493.us-west2.run.app/#/experiments/1/runs/b380cb63d32c42b1be3f4f5253e04542\n",
      "🧪 View experiment at: https://mlflow-server-152716764493.us-west2.run.app/#/experiments/1\n",
      "🏃 View run burly-gnu-37 at: https://mlflow-server-152716764493.us-west2.run.app/#/experiments/1/runs/e3cf39ef27fb42219900eea7cbc7af63\n",
      "🧪 View experiment at: https://mlflow-server-152716764493.us-west2.run.app/#/experiments/1\n",
      "🏃 View run placid-ant-163 at: https://mlflow-server-152716764493.us-west2.run.app/#/experiments/1/runs/fb2664f815104912bb1b1e0102f0e0d3\n",
      "🧪 View experiment at: https://mlflow-server-152716764493.us-west2.run.app/#/experiments/1\n",
      "🏃 View run victorious-zebra-454 at: https://mlflow-server-152716764493.us-west2.run.app/#/experiments/1/runs/c0313eb2b3294f8a93687702eb34c636\n",
      "🧪 View experiment at: https://mlflow-server-152716764493.us-west2.run.app/#/experiments/1\n",
      "🏃 View run fearless-cub-411 at: https://mlflow-server-152716764493.us-west2.run.app/#/experiments/1/runs/bde38381223541ecb64e179c2275b558\n",
      "🧪 View experiment at: https://mlflow-server-152716764493.us-west2.run.app/#/experiments/1\n",
      "🏃 View run worried-fish-474 at: https://mlflow-server-152716764493.us-west2.run.app/#/experiments/1/runs/5ed4ed5f7e634e25b9f37a018a4c9eb0\n",
      "🧪 View experiment at: https://mlflow-server-152716764493.us-west2.run.app/#/experiments/1\n",
      "🏃 View run judicious-boar-861 at: https://mlflow-server-152716764493.us-west2.run.app/#/experiments/1/runs/706e05f8fb504262bfae321fe20bc5d5\n",
      "🧪 View experiment at: https://mlflow-server-152716764493.us-west2.run.app/#/experiments/1\n",
      "🏃 View run spiffy-stag-868 at: https://mlflow-server-152716764493.us-west2.run.app/#/experiments/1/runs/97cb4d8deef94c8aa6f7e071517f4fdb\n",
      "🧪 View experiment at: https://mlflow-server-152716764493.us-west2.run.app/#/experiments/1\n",
      "🏃 View run intrigued-bird-4 at: https://mlflow-server-152716764493.us-west2.run.app/#/experiments/1/runs/45c611fc630341d787633c89c1a997f7\n",
      "🧪 View experiment at: https://mlflow-server-152716764493.us-west2.run.app/#/experiments/1\n",
      "🏃 View run fearless-midge-378 at: https://mlflow-server-152716764493.us-west2.run.app/#/experiments/1/runs/a1a88d2c21394c099df3d2124d3f79e1\n",
      "🧪 View experiment at: https://mlflow-server-152716764493.us-west2.run.app/#/experiments/1\n",
      "🏃 View run enchanting-auk-303 at: https://mlflow-server-152716764493.us-west2.run.app/#/experiments/1/runs/0fc4df19bd0b488cb963ed35a946dfcf\n",
      "🧪 View experiment at: https://mlflow-server-152716764493.us-west2.run.app/#/experiments/1\n"
     ]
    }
   ],
   "source": [
    "depths = [3, 5, 10, None]\n",
    "splits = [2, 5, 10]\n",
    "\n",
    "for depth in depths:\n",
    "    for split in splits:\n",
    "        with mlflow.start_run():\n",
    "            mlflow.set_tags({\n",
    "                \"Model\": \"decision-tree\", \"Train/Test Split\": \"80/20\", \"Target\": \"depression\", \"Reduced Features\": True})\n",
    "            mlflow.log_params({'max_depth': depth, 'min_samples_split': split})\n",
    "\n",
    "            dt = DecisionTreeClassifier(max_depth=depth, min_samples_split=split)\n",
    "            dt.fit(X_train_red, y_train_red)\n",
    "\n",
    "            acc = accuracy_score(y_test_red, dt.predict(X_test_red))\n",
    "            mlflow.log_metric('accuracy', acc)\n",
    "            mlflow.log_artifacts(artifact_redir, artifact_path=\"reduc_data_split\")            \n",
    "mlflow.end_run()"
   ]
  },
  {
   "cell_type": "code",
   "execution_count": 62,
   "metadata": {},
   "outputs": [
    {
     "name": "stdout",
     "output_type": "stream",
     "text": [
      "🏃 View run clean-stork-245 at: https://mlflow-server-152716764493.us-west2.run.app/#/experiments/1/runs/991b8fa5758d442e8deca21c1c04e8db\n",
      "🧪 View experiment at: https://mlflow-server-152716764493.us-west2.run.app/#/experiments/1\n",
      "🏃 View run agreeable-chimp-298 at: https://mlflow-server-152716764493.us-west2.run.app/#/experiments/1/runs/7c092656560046a5afc2070bc47324b2\n",
      "🧪 View experiment at: https://mlflow-server-152716764493.us-west2.run.app/#/experiments/1\n",
      "🏃 View run selective-snail-701 at: https://mlflow-server-152716764493.us-west2.run.app/#/experiments/1/runs/9d6528c569d540cd9afe6d5835335614\n",
      "🧪 View experiment at: https://mlflow-server-152716764493.us-west2.run.app/#/experiments/1\n",
      "🏃 View run salty-shark-851 at: https://mlflow-server-152716764493.us-west2.run.app/#/experiments/1/runs/120c52be0938492884e9d78cbdb993e2\n",
      "🧪 View experiment at: https://mlflow-server-152716764493.us-west2.run.app/#/experiments/1\n",
      "🏃 View run likeable-crow-995 at: https://mlflow-server-152716764493.us-west2.run.app/#/experiments/1/runs/04e7ea335ba2475692279d1947b3657f\n",
      "🧪 View experiment at: https://mlflow-server-152716764493.us-west2.run.app/#/experiments/1\n",
      "🏃 View run unequaled-slug-230 at: https://mlflow-server-152716764493.us-west2.run.app/#/experiments/1/runs/88a9a6e7c6c949c58f3c00871c19d443\n",
      "🧪 View experiment at: https://mlflow-server-152716764493.us-west2.run.app/#/experiments/1\n",
      "🏃 View run nimble-vole-319 at: https://mlflow-server-152716764493.us-west2.run.app/#/experiments/1/runs/771d110694624b3fa9ee8e15cae201ad\n",
      "🧪 View experiment at: https://mlflow-server-152716764493.us-west2.run.app/#/experiments/1\n",
      "🏃 View run capable-steed-380 at: https://mlflow-server-152716764493.us-west2.run.app/#/experiments/1/runs/32344dcd4d094e60bf7716310eea3eda\n",
      "🧪 View experiment at: https://mlflow-server-152716764493.us-west2.run.app/#/experiments/1\n",
      "🏃 View run unique-quail-917 at: https://mlflow-server-152716764493.us-west2.run.app/#/experiments/1/runs/4469be5462424759b5b20118a1db6b12\n",
      "🧪 View experiment at: https://mlflow-server-152716764493.us-west2.run.app/#/experiments/1\n"
     ]
    }
   ],
   "source": [
    "ntrees = [50, 100, 200]\n",
    "depths = [None, 10, 20]\n",
    "\n",
    "for n in ntrees:\n",
    "    for d in depths:\n",
    "        with mlflow.start_run():\n",
    "            mlflow.set_tags({\"Model\": \"random-forest\", \"Train/Test Split\": \"80/20\", \"Target\": \"depression\", \"Reduced Features\": True})\n",
    "\n",
    "            mlflow.log_params({'n_estimators': n,'max_depth': 'None' if d is None else d})\n",
    "\n",
    "            rf = RandomForestClassifier(n_estimators=n, max_depth=d, oob_score=True, bootstrap=True)\n",
    "            rf.fit(X_train_red, y_train_red)\n",
    "\n",
    "            acc = rf.oob_score_\n",
    "            mlflow.log_metric('accuracy', acc)\n",
    "            mlflow.log_artifacts(artifact_redir, artifact_path=\"reduc_data_split\")\n",
    "mlflow.end_run()"
   ]
  },
  {
   "cell_type": "markdown",
   "metadata": {},
   "source": [
    "## 5. Identify the top 3 best models and note these down for later.\n"
   ]
  },
  {
   "cell_type": "code",
   "execution_count": 63,
   "metadata": {},
   "outputs": [
    {
     "data": {
      "text/plain": [
       "'/mnt/c/users/chely/downloads/spring/s2/mlops/labs/lab6'"
      ]
     },
     "execution_count": 63,
     "metadata": {},
     "output_type": "execute_result"
    }
   ],
   "source": [
    "import os\n",
    "os.getcwd()"
   ]
  },
  {
   "cell_type": "code",
   "execution_count": 64,
   "metadata": {},
   "outputs": [
    {
     "data": {
      "image/png": "[encoded data removed]",
      "text/plain": [
       "<IPython.core.display.Image object>"
      ]
     },
     "execution_count": 64,
     "metadata": {},
     "output_type": "execute_result"
    }
   ],
   "source": [
    "Image(filename='../lab2/step4.png')"
   ]
  },
  {
   "cell_type": "markdown",
   "metadata": {},
   "source": [
    "## 6. Choose the **final** \"best\" model that you would deploy or use on future data, stage it (in MLFlow), and run it on the test set to get a final measure of performance. Don't forget to log the test set metric."
   ]
  },
  {
   "cell_type": "code",
   "execution_count": 65,
   "metadata": {},
   "outputs": [],
   "source": [
    "final_model = DecisionTreeClassifier(max_depth=None, min_samples_split=2, random_state=42)\n",
    "final_model.fit(X_t, y_t)\n",
    "final_preds = final_model.predict(X_te)\n",
    "final_acc = accuracy_score(y_te, final_preds)"
   ]
  },
  {
   "cell_type": "code",
   "execution_count": 66,
   "metadata": {},
   "outputs": [
    {
     "name": "stdout",
     "output_type": "stream",
     "text": [
      "Run artifact URI: gs://freshmlopsbucket/mlruns /1/2d401981b6134119abfae216eeb38992/artifacts\n"
     ]
    }
   ],
   "source": [
    "print(\"Run artifact URI:\", mlflow.get_artifact_uri())\n"
   ]
  },
  {
   "cell_type": "code",
   "execution_count": 67,
   "metadata": {},
   "outputs": [
    {
     "name": "stdout",
     "output_type": "stream",
     "text": [
      "🏃 View run clean-panda-570 at: https://mlflow-server-152716764493.us-west2.run.app/#/experiments/1/runs/2d401981b6134119abfae216eeb38992\n",
      "🧪 View experiment at: https://mlflow-server-152716764493.us-west2.run.app/#/experiments/1\n"
     ]
    }
   ],
   "source": [
    "mlflow.end_run()\n"
   ]
  },
  {
   "cell_type": "code",
   "execution_count": 68,
   "metadata": {},
   "outputs": [
    {
     "name": "stderr",
     "output_type": "stream",
     "text": [
      "\u001b[31m2025/04/18 10:34:17 WARNING mlflow.models.model: Model logged without a signature and input example. Please set `input_example` parameter when logging the model to auto infer the model signature.\u001b[0m\n",
      "Successfully registered model 'mental-health-final-model'.\n",
      "2025/04/18 10:34:23 INFO mlflow.store.model_registry.abstract_store: Waiting up to 300 seconds for model version to finish creation. Model name: mental-health-final-model, version 1\n",
      "Created version '1' of model 'mental-health-final-model'.\n"
     ]
    },
    {
     "name": "stdout",
     "output_type": "stream",
     "text": [
      "🏃 View run final-decision-tree-model at: https://mlflow-server-152716764493.us-west2.run.app/#/experiments/1/runs/c185bb65eeaf406ebd64a6938d80f79c\n",
      "🧪 View experiment at: https://mlflow-server-152716764493.us-west2.run.app/#/experiments/1\n"
     ]
    }
   ],
   "source": [
    "with mlflow.start_run(run_name=\"final-decision-tree-model\") as run:\n",
    "    mlflow.set_tags({\n",
    "        \"Stage\": \"Final Model\", \"Model\": \"decision-tree\", \"Train/Test Split\": \"80/20\", \"Target\": \"depression\"})\n",
    "\n",
    "    mlflow.log_params({\"max_depth\": \"None\",\"min_samples_split\": 2})\n",
    "    mlflow.log_metric(\"accuracy\", final_acc)\n",
    "\n",
    "    mlflow.sklearn.log_model(final_model, artifact_path=\"final_decision_tree\")\n",
    "    run_id = run.info.run_id\n",
    "    model_uri = f\"runs:/{run_id}/final_decision_tree\"\n",
    "    model_name = \"mental-health-final-model\"\n",
    "\n",
    "    result = mlflow.register_model(model_uri=model_uri, name=model_name)"
   ]
  },
  {
   "cell_type": "code",
   "execution_count": 69,
   "metadata": {},
   "outputs": [
    {
     "name": "stderr",
     "output_type": "stream",
     "text": [
      "2025/04/18 10:34:24 INFO mlflow.tracking.fluent: Experiment with name 'test-connection' does not exist. Creating a new experiment.\n"
     ]
    },
    {
     "name": "stdout",
     "output_type": "stream",
     "text": [
      "🏃 View run trusting-flea-698 at: https://mlflow-server-152716764493.us-west2.run.app/#/experiments/2/runs/f8ef6086cd524392bf419524f3c154b4\n",
      "🧪 View experiment at: https://mlflow-server-152716764493.us-west2.run.app/#/experiments/2\n",
      "✅ Run logged!\n"
     ]
    }
   ],
   "source": [
    "# 🔁 Replace this with your actual Cloud Run URL\n",
    "mlflow.set_tracking_uri(\"https://mlflow-server-152716764493.us-west2.run.app\")\n",
    "mlflow.set_experiment(\"test-connection\")\n",
    "\n",
    "with mlflow.start_run():\n",
    "    mlflow.log_param(\"test_param\", 42)\n",
    "    mlflow.log_metric(\"test_metric\", 0.987)\n",
    "\n",
    "print(\"✅ Run logged!\")\n"
   ]
  },
  {
   "cell_type": "code",
   "execution_count": 70,
   "metadata": {},
   "outputs": [
    {
     "name": "stderr",
     "output_type": "stream",
     "text": [
      "2025/04/18 10:34:26 INFO mlflow.tracking.fluent: Experiment with name 'test-artifacts' does not exist. Creating a new experiment.\n"
     ]
    },
    {
     "name": "stdout",
     "output_type": "stream",
     "text": [
      "🏃 View run capable-koi-33 at: https://mlflow-server-152716764493.us-west2.run.app/#/experiments/3/runs/f0ed9003dc3342e99339806b2d983dc0\n",
      "🧪 View experiment at: https://mlflow-server-152716764493.us-west2.run.app/#/experiments/3\n"
     ]
    }
   ],
   "source": [
    "mlflow.set_tracking_uri(\"https://mlflow-server-152716764493.us-west2.run.app\")\n",
    "mlflow.set_experiment(\"test-artifacts\")\n",
    "\n",
    "with mlflow.start_run():\n",
    "    mlflow.log_param(\"p\", 1)\n",
    "    mlflow.log_metric(\"m\", 2.0)\n",
    "\n",
    "    # Create a dummy file to upload\n",
    "    with open(\"output.txt\", \"w\") as f:\n",
    "        f.write(\"This is a test artifact.\")\n",
    "\n",
    "    mlflow.log_artifact(\"output.txt\")\n"
   ]
  },
  {
   "cell_type": "code",
   "execution_count": 71,
   "metadata": {},
   "outputs": [
    {
     "name": "stdout",
     "output_type": "stream",
     "text": [
      "Run ID: f0ed9003dc3342e99339806b2d983dc0\n",
      "Artifact URI: gs://freshmlopsbucket/mlruns /3/f0ed9003dc3342e99339806b2d983dc0/artifacts\n"
     ]
    }
   ],
   "source": [
    "from mlflow.tracking import MlflowClient\n",
    "\n",
    "client = MlflowClient()\n",
    "experiment = client.get_experiment_by_name(\"test-artifacts\")\n",
    "runs = client.search_runs([experiment.experiment_id])\n",
    "\n",
    "for run in runs:\n",
    "    print(\"Run ID:\", run.info.run_id)\n",
    "    print(\"Artifact URI:\", run.info.artifact_uri)\n"
   ]
  },
  {
   "cell_type": "code",
   "execution_count": 72,
   "metadata": {},
   "outputs": [
    {
     "name": "stderr",
     "output_type": "stream",
     "text": [
      "2025/04/18 10:34:34 INFO mlflow.tracking.fluent: Experiment with name 'test-final' does not exist. Creating a new experiment.\n"
     ]
    },
    {
     "name": "stdout",
     "output_type": "stream",
     "text": [
      "🏃 View run incongruous-hog-469 at: https://mlflow-server-152716764493.us-west2.run.app/#/experiments/4/runs/543d2241660a43ae8f6bb9cbb56f25e2\n",
      "🧪 View experiment at: https://mlflow-server-152716764493.us-west2.run.app/#/experiments/4\n"
     ]
    }
   ],
   "source": [
    "mlflow.set_tracking_uri(\"https://mlflow-server-152716764493.us-west2.run.app\")\n",
    "mlflow.set_experiment(\"test-final\")\n",
    "\n",
    "with mlflow.start_run():\n",
    "    mlflow.log_param(\"p\", 42)\n",
    "    mlflow.log_metric(\"score\", 0.98)\n",
    "\n",
    "    with open(\"artifact.txt\", \"w\") as f:\n",
    "        f.write(\"this better show up in GCS 😤\")\n",
    "\n",
    "    mlflow.log_artifact(\"artifact.txt\")\n"
   ]
  },
  {
   "cell_type": "code",
   "execution_count": 73,
   "metadata": {},
   "outputs": [
    {
     "name": "stdout",
     "output_type": "stream",
     "text": [
      "Run ID: 543d2241660a43ae8f6bb9cbb56f25e2\n",
      "Artifact URI: gs://freshmlopsbucket/mlruns /4/543d2241660a43ae8f6bb9cbb56f25e2/artifacts\n"
     ]
    }
   ],
   "source": [
    "client = MlflowClient()\n",
    "exp = client.get_experiment_by_name(\"test-final\")\n",
    "runs = client.search_runs([exp.experiment_id])\n",
    "for r in runs:\n",
    "    print(\"Run ID:\", r.info.run_id)\n",
    "    print(\"Artifact URI:\", r.info.artifact_uri)\n"
   ]
  }
 ],
 "metadata": {
  "kernelspec": {
   "display_name": "mlops",
   "language": "python",
   "name": "python3"
  },
  "language_info": {
   "codemirror_mode": {
    "name": "ipython",
    "version": 3
   },
   "file_extension": ".py",
   "mimetype": "text/x-python",
   "name": "python",
   "nbconvert_exporter": "python",
   "pygments_lexer": "ipython3",
   "version": "3.12.9"
  }
 },
 "nbformat": 4,
 "nbformat_minor": 2
}
